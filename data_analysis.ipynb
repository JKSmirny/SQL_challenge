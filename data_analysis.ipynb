{
 "cells": [
  {
   "cell_type": "code",
   "execution_count": null,
   "id": "1b0a2bf4",
   "metadata": {},
   "outputs": [],
   "source": [
    "#--1.List the following details of each employee: \n",
    "#--employee number, last name, first name, sex, and salary.\n",
    "\n",
    "select last_name, first_name, sex, salary\n",
    "from employees\n",
    "inner join salaries\n",
    "on employees.emp_no = salaries.emp_no;"
   ]
  },
  {
   "cell_type": "code",
   "execution_count": null,
   "id": "4e0f7e6e",
   "metadata": {},
   "outputs": [],
   "source": [
    "#--2.List first name, last name, and hire date\n",
    "#--for employees who were hired in 1986.\n",
    "\n",
    "select first_name, last_name, hire_date \n",
    "from employees \n",
    "#--where hire_date <('01-01-1987') and hire_date > ('12-31-1985');\n",
    "where hire_date between ('01-01-1986') and ('12-31-1986');"
   ]
  },
  {
   "cell_type": "code",
   "execution_count": null,
   "id": "da066b7d",
   "metadata": {},
   "outputs": [],
   "source": [
    "#--3.List the manager of each department with the following information:\n",
    "#--department number, department name, the manager's employee number, last name, first name.\n",
    "\n",
    "select departments.dept_no, departments.dept_name, dept_manager.emp_no, employees.last_name, employees.first_name\n",
    "from departments\n",
    "join dept_manager\n",
    "on departments.dept_no = dept_manager.dept_no\n",
    "join employees\n",
    "on dept_manager.emp_no = employees.emp_no;"
   ]
  },
  {
   "cell_type": "code",
   "execution_count": null,
   "id": "c7336840",
   "metadata": {},
   "outputs": [],
   "source": [
    "#--4.List first name, last name, and sex for employees whose\n",
    "#--first name is \"Hercules\" and last names begin with \"B.\"\n",
    "select first_name, last_name, sex\n",
    "from employees\n",
    "where first_name = 'Hercules' and last_name like 'B%'"
   ]
  },
  {
   "cell_type": "code",
   "execution_count": null,
   "id": "d10efcaf",
   "metadata": {},
   "outputs": [],
   "source": [
    "#--5.List first name, last name, and sex for employees whose\n",
    "#--first name is \"Hercules\" and last names begin with \"B.\"\n",
    "\n",
    "select first_name, last_name, sex\n",
    "from employees\n",
    "where first_name = 'Hercules' and last_name like 'B%'"
   ]
  },
  {
   "cell_type": "code",
   "execution_count": null,
   "id": "cb027f6c",
   "metadata": {},
   "outputs": [],
   "source": [
    "#--6.List all employees in the Sales department, including their\n",
    "#--employee number, last name, first name, and department name.\n",
    "\n",
    "select dept_emp.emp_no, employees.last_name, employees.first_name, departments.dept_name\n",
    "from dept_emp\n",
    "join employees\n",
    "on dept_emp.emp_no = employees.emp_no\n",
    "join departments\n",
    "on dept_emp.dept_no = departments.dept_no\n",
    "where departments.dept_name = 'Sales';\n"
   ]
  },
  {
   "cell_type": "code",
   "execution_count": null,
   "id": "f79a0345",
   "metadata": {},
   "outputs": [],
   "source": [
    "#--7.List all employees in the Sales and Development departments, including \n",
    "#--their employee number, last name, first name, and department name.\n",
    "\n",
    "select dept_emp.emp_no, employees.last_name, employees.first_name, departments.dept_name\n",
    "from dept_emp \n",
    "join employees\n",
    "on dept_emp.emp_no = employees.emp_no\n",
    "join departments\n",
    "on dept_emp.dept_no = departments.dept_no\n",
    "where departments.dept_name = 'Sales'\n",
    "or departments.dept_name = 'Development';"
   ]
  },
  {
   "cell_type": "code",
   "execution_count": null,
   "id": "efe67031",
   "metadata": {},
   "outputs": [],
   "source": [
    "#--8. In descending order, list the frequency count of employee \n",
    "#--last names,i.e., how many employees share each last name.\n",
    "\n",
    "select last_name, COUNT(last_name)as frequency\n",
    "from employees\n",
    "group by last_name\n",
    "order by COUNT(last_name) desc;"
   ]
  }
 ],
 "metadata": {
  "kernelspec": {
   "display_name": "Python 3 (ipykernel)",
   "language": "python",
   "name": "python3"
  },
  "language_info": {
   "codemirror_mode": {
    "name": "ipython",
    "version": 3
   },
   "file_extension": ".py",
   "mimetype": "text/x-python",
   "name": "python",
   "nbconvert_exporter": "python",
   "pygments_lexer": "ipython3",
   "version": "3.9.7"
  }
 },
 "nbformat": 4,
 "nbformat_minor": 5
}
